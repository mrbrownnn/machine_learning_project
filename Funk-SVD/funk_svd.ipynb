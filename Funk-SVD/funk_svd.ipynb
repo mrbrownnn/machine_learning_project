{
 "cells": [
  {
   "cell_type": "code",
   "execution_count": 1,
   "id": "7d96fa45-86b8-45d7-894b-73115e72ccdb",
   "metadata": {},
   "outputs": [
    {
     "name": "stdout",
     "output_type": "stream",
     "text": [
      "[5.         5.         4.10204082 ... 1.         1.         1.        ]\n",
      "number of unique users: 11\n",
      "number of unique tracks: 67241\n",
      "number of playcounts: 125763\n",
      "total number of cells: 739651\n",
      "Ratio of entries filled: 0.17003018991389182\n"
     ]
    }
   ],
   "source": [
    "import tensorflow as tf\n",
    "import numpy as np\n",
    "import pandas as pd\n",
    "import matplotlib.pyplot as plt\n",
    "\n",
    "%matplotlib inline\n",
    "\n",
    "df = pd.read_csv('dataset music/data_playcount.csv')\n",
    "\n",
    "users = df['id_user'].values\n",
    "tracks = df['id_track'].values\n",
    "initial_playcounts = df['count'].values\n",
    "playcounts = 1 + (initial_playcounts - 1) * (5 - 1) / (50 - 1)\n",
    "print(playcounts)\n",
    "\n",
    "\n",
    "uniques = [np.unique(users).shape[0], np.unique(tracks).shape[0]]\n",
    "\n",
    "print('number of unique users:', uniques[0])\n",
    "print('number of unique tracks:', uniques[1])\n",
    "print('number of playcounts:', users.shape[0])\n",
    "print('total number of cells:', uniques[0] * uniques[1])\n",
    "print('Ratio of entries filled:', users.shape[0]/(uniques[0] * uniques[1]))\n"
   ]
  },
  {
   "cell_type": "code",
   "execution_count": 2,
   "id": "bf819fd9-13f5-4c64-8cf8-2e1933ed7466",
   "metadata": {},
   "outputs": [
    {
     "data": {
      "image/png": "[encoded data removed]",
      "text/plain": [
       "<Figure size 1000x800 with 1 Axes>"
      ]
     },
     "metadata": {},
     "output_type": "display_data"
    }
   ],
   "source": [
    "track_uniques = np.unique(tracks)\n",
    "\n",
    "track_occurances = []\n",
    "for track in track_uniques:\n",
    "    occ = np.count_nonzero(tracks == track)\n",
    "    track_occurances.append(occ)\n",
    "track_occurances = np.array(track_occurances)\n",
    "\n",
    "sort_indices = np.argsort(track_occurances) \n",
    "\n",
    "track_uniques_occ_sorted = track_uniques[sort_indices]\n",
    "track_uniques_occ_sorted = track_uniques_occ_sorted[::-1]\n",
    "track_uniques_occ_sorted = np.array(track_uniques_occ_sorted)\n",
    "\n",
    "track_occurances_sorted = track_occurances[sort_indices]\n",
    "track_occurances_sorted = track_occurances_sorted[::-1]\n",
    "\n",
    "plt.figure(figsize=(10,8))\n",
    "plt.bar(range(len(track_occurances_sorted[0:60000])), track_occurances_sorted[:60000])\n",
    "plt.title('Number of ratings of tracks')\n",
    "plt.xlabel('track_id')\n",
    "plt.ylabel('Number of counts')\n",
    "plt.show()"
   ]
  },
  {
   "cell_type": "code",
   "execution_count": 3,
   "id": "375414b8-2463-43b5-8b35-93eb96febd80",
   "metadata": {},
   "outputs": [
    {
     "name": "stdout",
     "output_type": "stream",
     "text": [
      "125763.0\n"
     ]
    }
   ],
   "source": [
    "M = np.zeros((uniques[0], uniques[1]))\n",
    "mask = np.zeros(M.shape)\n",
    "for u, t, c in zip(users, tracks, playcounts):\n",
    "    M[u, np.where(track_uniques_occ_sorted == t)[0][0]]= c\n",
    "    mask[u, np.where(track_uniques_occ_sorted == t)[0][0]]= 1.\n",
    "     \n",
    "print(np.sum(mask))"
   ]
  },
  {
   "cell_type": "code",
   "execution_count": 4,
   "id": "6362bdfb-1bb3-41a9-85e3-e9db768f247e",
   "metadata": {},
   "outputs": [
    {
     "name": "stdout",
     "output_type": "stream",
     "text": [
      "47703.0\n"
     ]
    }
   ],
   "source": [
    "test_count = 60000\n",
    "_is = np.random.randint(0, len(users), test_count)\n",
    " \n",
    "test_mask = np.zeros(M.shape)\n",
    "for i in _is:\n",
    "    _user = users[i]\n",
    "    _track = np.where(track_uniques_occ_sorted == tracks[i])[0][0]\n",
    "    test_mask[_user, _track] = 1\n",
    "     \n",
    "print(np.sum(test_mask))"
   ]
  },
  {
   "cell_type": "code",
   "execution_count": 5,
   "id": "e72b603b-4524-40d1-9149-3daf332e3810",
   "metadata": {},
   "outputs": [
    {
     "name": "stdout",
     "output_type": "stream",
     "text": [
      "Number of testing: tf.Tensor(33446.0, shape=(), dtype=float32)\n",
      "Number of training: tf.Tensor(55076.0, shape=(), dtype=float32)\n"
     ]
    }
   ],
   "source": [
    "cutoff = 30000\n",
    "M = tf.constant(M[:, :cutoff], dtype=tf.float32)\n",
    "mask = tf.cast(mask[:, :cutoff], dtype=tf.float32)  \n",
    "test_mask = tf.cast(test_mask[:, :cutoff], dtype=tf.float32)\n",
    "train_mask = mask - test_mask\n",
    "\n",
    "print('Number of testing:', tf.reduce_sum(test_mask))\n",
    "print('Number of training:', tf.reduce_sum(train_mask))\n"
   ]
  },
  {
   "cell_type": "code",
   "execution_count": 6,
   "id": "1e839b06-f340-4949-832d-e39ef6b6a881",
   "metadata": {},
   "outputs": [],
   "source": [
    "def early_stopping(losses, patience = 5):\n",
    "     \n",
    "    if len(losses) <= patience + 1:\n",
    "        return False\n",
    "     \n",
    "    avg_loss = np.mean(losses[-1 - patience:-1])\n",
    "     \n",
    "    if avg_loss - losses[-1] < 0.01*avg_loss:\n",
    "        return True\n",
    "     \n",
    "    return False"
   ]
  },
  {
   "cell_type": "code",
   "execution_count": 7,
   "id": "90f95d01-54be-406e-8556-dfe001783513",
   "metadata": {},
   "outputs": [],
   "source": [
    "def train(k):\n",
    "    U_d = tf.Variable(tf.random.normal((11, k)))\n",
    "    V_d = tf.Variable(tf.random.normal((k, cutoff)))\n",
    "    \n",
    "    train_norm = tf.reduce_sum(train_mask)\n",
    "    test_norm = tf.reduce_sum(test_mask)\n",
    "    \n",
    "    adam_opt = tf.keras.optimizers.Adam()\n",
    "    from datetime import datetime\n",
    "    lr = 0.001\n",
    "    ep = 0\n",
    "    start_time = datetime.now()\n",
    "    train_losses = []\n",
    "    test_losses = []\n",
    "    \n",
    "    while True:\n",
    "        with tf.GradientTape() as tape:\n",
    "            M_app = U_d @ V_d\n",
    "            pred_errors_squared = tf.square(M - M_app)\n",
    "            train_loss = tf.reduce_sum((train_mask * pred_errors_squared)/train_norm)\n",
    "        test_loss = tf.reduce_sum((test_mask * pred_errors_squared) / test_norm)\n",
    "    \n",
    "        if ep%100 == 0:\n",
    "            print(datetime.now() - start_time, train_loss, test_loss, ep)\n",
    "            train_losses.append(train_loss.numpy())\n",
    "            test_losses.append(test_loss.numpy())\n",
    "        if early_stopping(train_losses):\n",
    "            break\n",
    "            \n",
    "        grads = tape.gradient(train_loss, [U_d, V_d])\n",
    "        adam_opt.apply_gradients(zip(grads, [U_d, V_d]))\n",
    "    \n",
    "        ep += 1\n",
    "\n",
    "    return train_losses, test_losses, U_d, V_d\n",
    "    \n"
   ]
  },
  {
   "cell_type": "code",
   "execution_count": 8,
   "id": "88fa5db3-1697-4d4a-bcea-7372c73685dc",
   "metadata": {},
   "outputs": [
    {
     "name": "stdout",
     "output_type": "stream",
     "text": [
      "0:00:00.078368 tf.Tensor(3.1039085, shape=(), dtype=float32) tf.Tensor(3.054923, shape=(), dtype=float32) 0\n",
      "0:00:01.769954 tf.Tensor(2.4915566, shape=(), dtype=float32) tf.Tensor(2.6770768, shape=(), dtype=float32) 100\n",
      "0:00:03.631934 tf.Tensor(2.0688977, shape=(), dtype=float32) tf.Tensor(2.4027464, shape=(), dtype=float32) 200\n",
      "0:00:05.548849 tf.Tensor(1.7607105, shape=(), dtype=float32) tf.Tensor(2.1837993, shape=(), dtype=float32) 300\n",
      "0:00:07.410141 tf.Tensor(1.5228808, shape=(), dtype=float32) tf.Tensor(1.9980804, shape=(), dtype=float32) 400\n",
      "0:00:09.288688 tf.Tensor(1.3287314, shape=(), dtype=float32) tf.Tensor(1.8337886, shape=(), dtype=float32) 500\n",
      "0:00:11.159853 tf.Tensor(1.1624862, shape=(), dtype=float32) tf.Tensor(1.6847217, shape=(), dtype=float32) 600\n",
      "0:00:13.039655 tf.Tensor(1.0152793, shape=(), dtype=float32) tf.Tensor(1.5465461, shape=(), dtype=float32) 700\n",
      "0:00:14.941166 tf.Tensor(0.8822137, shape=(), dtype=float32) tf.Tensor(1.4180442, shape=(), dtype=float32) 800\n",
      "0:00:16.698403 tf.Tensor(0.76103085, shape=(), dtype=float32) tf.Tensor(1.3008474, shape=(), dtype=float32) 900\n",
      "0:00:18.361849 tf.Tensor(0.6511539, shape=(), dtype=float32) tf.Tensor(1.197381, shape=(), dtype=float32) 1000\n",
      "0:00:20.075743 tf.Tensor(0.5526359, shape=(), dtype=float32) tf.Tensor(1.1090865, shape=(), dtype=float32) 1100\n",
      "0:00:21.977693 tf.Tensor(0.46551478, shape=(), dtype=float32) tf.Tensor(1.0355995, shape=(), dtype=float32) 1200\n",
      "0:00:23.730576 tf.Tensor(0.38958752, shape=(), dtype=float32) tf.Tensor(0.9745693, shape=(), dtype=float32) 1300\n",
      "0:00:25.617330 tf.Tensor(0.32432532, shape=(), dtype=float32) tf.Tensor(0.92293537, shape=(), dtype=float32) 1400\n",
      "0:00:27.527013 tf.Tensor(0.26889566, shape=(), dtype=float32) tf.Tensor(0.87845045, shape=(), dtype=float32) 1500\n",
      "0:00:29.418953 tf.Tensor(0.2222719, shape=(), dtype=float32) tf.Tensor(0.839686, shape=(), dtype=float32) 1600\n",
      "0:00:31.316029 tf.Tensor(0.18335693, shape=(), dtype=float32) tf.Tensor(0.80568564, shape=(), dtype=float32) 1700\n",
      "0:00:33.037785 tf.Tensor(0.15107666, shape=(), dtype=float32) tf.Tensor(0.77574027, shape=(), dtype=float32) 1800\n",
      "0:00:34.644698 tf.Tensor(0.12443597, shape=(), dtype=float32) tf.Tensor(0.74926245, shape=(), dtype=float32) 1900\n",
      "0:00:36.506579 tf.Tensor(0.10254406, shape=(), dtype=float32) tf.Tensor(0.72574157, shape=(), dtype=float32) 2000\n",
      "0:00:38.393488 tf.Tensor(0.08461993, shape=(), dtype=float32) tf.Tensor(0.70472974, shape=(), dtype=float32) 2100\n",
      "0:00:40.273605 tf.Tensor(0.06998814, shape=(), dtype=float32) tf.Tensor(0.68584293, shape=(), dtype=float32) 2200\n",
      "0:00:42.181132 tf.Tensor(0.058070473, shape=(), dtype=float32) tf.Tensor(0.66875976, shape=(), dtype=float32) 2300\n",
      "0:00:44.031966 tf.Tensor(0.048376583, shape=(), dtype=float32) tf.Tensor(0.65321636, shape=(), dtype=float32) 2400\n",
      "0:00:45.693817 tf.Tensor(0.04049474, shape=(), dtype=float32) tf.Tensor(0.6389999, shape=(), dtype=float32) 2500\n",
      "0:00:47.616203 tf.Tensor(0.034082517, shape=(), dtype=float32) tf.Tensor(0.6259402, shape=(), dtype=float32) 2600\n",
      "0:00:49.424334 tf.Tensor(0.028857846, shape=(), dtype=float32) tf.Tensor(0.61390257, shape=(), dtype=float32) 2700\n",
      "0:00:51.068615 tf.Tensor(0.024590448, shape=(), dtype=float32) tf.Tensor(0.60278016, shape=(), dtype=float32) 2800\n",
      "0:00:53.009860 tf.Tensor(0.021093775, shape=(), dtype=float32) tf.Tensor(0.5924876, shape=(), dtype=float32) 2900\n",
      "0:00:55.134330 tf.Tensor(0.018217672, shape=(), dtype=float32) tf.Tensor(0.5829553, shape=(), dtype=float32) 3000\n",
      "0:00:57.185794 tf.Tensor(0.015841942, shape=(), dtype=float32) tf.Tensor(0.5741259, shape=(), dtype=float32) 3100\n",
      "0:00:59.115366 tf.Tensor(0.013870727, shape=(), dtype=float32) tf.Tensor(0.56595, shape=(), dtype=float32) 3200\n",
      "0:01:01.002087 tf.Tensor(0.012227823, shape=(), dtype=float32) tf.Tensor(0.5583846, shape=(), dtype=float32) 3300\n",
      "0:01:02.900374 tf.Tensor(0.010852701, shape=(), dtype=float32) tf.Tensor(0.551391, shape=(), dtype=float32) 3400\n",
      "0:01:04.756743 tf.Tensor(0.009697279, shape=(), dtype=float32) tf.Tensor(0.5449334, shape=(), dtype=float32) 3500\n",
      "0:01:06.399137 tf.Tensor(0.008723251, shape=(), dtype=float32) tf.Tensor(0.5389777, shape=(), dtype=float32) 3600\n",
      "0:01:08.252161 tf.Tensor(0.007899954, shape=(), dtype=float32) tf.Tensor(0.53349084, shape=(), dtype=float32) 3700\n",
      "0:01:10.147366 tf.Tensor(0.0072026663, shape=(), dtype=float32) tf.Tensor(0.52844125, shape=(), dtype=float32) 3800\n",
      "0:01:12.032967 tf.Tensor(0.0066112773, shape=(), dtype=float32) tf.Tensor(0.5237976, shape=(), dtype=float32) 3900\n",
      "0:01:13.939091 tf.Tensor(0.0061092656, shape=(), dtype=float32) tf.Tensor(0.5195298, shape=(), dtype=float32) 4000\n",
      "0:01:15.950680 tf.Tensor(0.005682919, shape=(), dtype=float32) tf.Tensor(0.5156092, shape=(), dtype=float32) 4100\n",
      "0:01:17.838614 tf.Tensor(0.005320751, shape=(), dtype=float32) tf.Tensor(0.5120081, shape=(), dtype=float32) 4200\n",
      "0:01:19.738901 tf.Tensor(0.0050130635, shape=(), dtype=float32) tf.Tensor(0.50870043, shape=(), dtype=float32) 4300\n",
      "0:01:21.379947 tf.Tensor(0.004751624, shape=(), dtype=float32) tf.Tensor(0.5056621, shape=(), dtype=float32) 4400\n",
      "0:01:23.229084 tf.Tensor(0.004529423, shape=(), dtype=float32) tf.Tensor(0.5028707, shape=(), dtype=float32) 4500\n",
      "0:01:25.129908 tf.Tensor(0.0043404936, shape=(), dtype=float32) tf.Tensor(0.5003058, shape=(), dtype=float32) 4600\n",
      "0:01:27.023142 tf.Tensor(0.0041797636, shape=(), dtype=float32) tf.Tensor(0.49794906, shape=(), dtype=float32) 4700\n",
      "0:01:28.892751 tf.Tensor(0.0040429356, shape=(), dtype=float32) tf.Tensor(0.49578422, shape=(), dtype=float32) 4800\n",
      "0:01:30.863100 tf.Tensor(0.003926382, shape=(), dtype=float32) tf.Tensor(0.49379662, shape=(), dtype=float32) 4900\n",
      "0:01:32.758592 tf.Tensor(0.003827056, shape=(), dtype=float32) tf.Tensor(0.49197358, shape=(), dtype=float32) 5000\n",
      "0:01:34.641864 tf.Tensor(0.0037424047, shape=(), dtype=float32) tf.Tensor(0.49030364, shape=(), dtype=float32) 5100\n",
      "0:01:36.403580 tf.Tensor(0.0036702913, shape=(), dtype=float32) tf.Tensor(0.4887768, shape=(), dtype=float32) 5200\n",
      "0:01:38.056840 tf.Tensor(0.0036089236, shape=(), dtype=float32) tf.Tensor(0.48738414, shape=(), dtype=float32) 5300\n",
      "0:01:39.967441 tf.Tensor(0.0035567926, shape=(), dtype=float32) tf.Tensor(0.4861174, shape=(), dtype=float32) 5400\n",
      "0:01:41.872277 tf.Tensor(0.0035126177, shape=(), dtype=float32) tf.Tensor(0.48496896, shape=(), dtype=float32) 5500\n",
      "0:01:43.749879 tf.Tensor(0.0034753028, shape=(), dtype=float32) tf.Tensor(0.48393184, shape=(), dtype=float32) 5600\n",
      "0:01:45.633956 tf.Tensor(0.003443898, shape=(), dtype=float32) tf.Tensor(0.48299927, shape=(), dtype=float32) 5700\n",
      "0:01:47.514791 tf.Tensor(0.0034175743, shape=(), dtype=float32) tf.Tensor(0.4821647, shape=(), dtype=float32) 5800\n",
      "0:01:49.404135 tf.Tensor(0.0033955998, shape=(), dtype=float32) tf.Tensor(0.4814222, shape=(), dtype=float32) 5900\n",
      "0:01:51.284470 tf.Tensor(0.0033773237, shape=(), dtype=float32) tf.Tensor(0.4807653, shape=(), dtype=float32) 6000\n",
      "0:01:53.077962 tf.Tensor(0.0033621667, shape=(), dtype=float32) tf.Tensor(0.48018825, shape=(), dtype=float32) 6100\n",
      "0:01:54.680402 tf.Tensor(0.0033496113, shape=(), dtype=float32) tf.Tensor(0.4796857, shape=(), dtype=float32) 6200\n",
      "0:01:56.624547 tf.Tensor(0.003339198, shape=(), dtype=float32) tf.Tensor(0.47925186, shape=(), dtype=float32) 6300\n",
      "0:01:58.514731 tf.Tensor(0.0033305162, shape=(), dtype=float32) tf.Tensor(0.4788817, shape=(), dtype=float32) 6400\n",
      "0:02:00.388696 tf.Tensor(0.003323208, shape=(), dtype=float32) tf.Tensor(0.47857022, shape=(), dtype=float32) 6500\n"
     ]
    }
   ],
   "source": [
    "train_losses, test_losses, U_d, V_d = train(2)"
   ]
  },
  {
   "cell_type": "code",
   "execution_count": 9,
   "id": "3471eb4d-53df-40fa-932e-25efdc79aa4a",
   "metadata": {},
   "outputs": [
    {
     "data": {
      "image/png": "[encoded data removed]",
      "text/plain": [
       "<Figure size 700x500 with 1 Axes>"
      ]
     },
     "metadata": {},
     "output_type": "display_data"
    }
   ],
   "source": [
    "plt.figure(figsize=(7,5))\n",
    "plt.plot(train_losses, label = 'training_loss')\n",
    "plt.plot(test_losses, label = 'testing_loss')\n",
    "plt.xlabel('training iters x100')\n",
    "plt.ylabel('loss')\n",
    "plt.legend()\n",
    "plt.show()"
   ]
  },
  {
   "cell_type": "code",
   "execution_count": 10,
   "id": "ec8eaab0-f02a-4a9b-8b2d-ae89376e2535",
   "metadata": {},
   "outputs": [
    {
     "data": {
      "text/plain": [
       "<tf.Tensor: shape=(11, 30000), dtype=float32, numpy=\n",
       "array([[1.0319664 , 1.0165133 , 1.0128742 , ..., 0.10215798, 0.99990946,\n",
       "        1.1566957 ],\n",
       "       [1.0369676 , 1.0212023 , 1.0173721 , ..., 0.10306949, 1.005159  ,\n",
       "        1.1631601 ],\n",
       "       [1.0133533 , 0.9987078 , 0.9955207 , ..., 0.09938746, 0.98097503,\n",
       "        1.1339194 ],\n",
       "       ...,\n",
       "       [0.9822273 , 0.98042744, 0.9863998 , ..., 0.07457817, 0.9297525 ,\n",
       "        1.0542248 ],\n",
       "       [0.9787522 , 0.9727431 , 0.9756127 , ..., 0.08171321, 0.9336356 ,\n",
       "        1.0657526 ],\n",
       "       [0.99306744, 0.98003685, 0.97787994, ..., 0.09507775, 0.9590881 ,\n",
       "        1.1064355 ]], dtype=float32)>"
      ]
     },
     "execution_count": 10,
     "metadata": {},
     "output_type": "execute_result"
    }
   ],
   "source": [
    "M_pred = tf.matmul(U_d, V_d)\n",
    "M_pred\n"
   ]
  },
  {
   "cell_type": "code",
   "execution_count": 11,
   "id": "2ea84743-1ad7-40b6-9b9c-2c65d6485e63",
   "metadata": {},
   "outputs": [],
   "source": [
    "users = pd.read_csv('dataset music/users.csv')\n",
    "tracks = pd.read_csv('dataset music/tracks.csv')"
   ]
  },
  {
   "cell_type": "code",
   "execution_count": 12,
   "id": "c5e0b56c-836f-44b7-ad10-04e9950435a9",
   "metadata": {},
   "outputs": [],
   "source": [
    "def recommendation(user):\n",
    "    # Tìm ID của user\n",
    "    user_row = users[users['Username'] == user]['index']\n",
    "    \n",
    "    if user_row.empty:\n",
    "        print(\"User không tồn tại!\")\n",
    "        return\n",
    "    \n",
    "    user_id = user_row.values[0]  # Lấy giá trị đầu tiên\n",
    "    \n",
    "    # Lấy 10 bài hát được đề xuất\n",
    "    top_10_recommendations = np.argsort(-M_pred, axis=1)[:, :10]\n",
    "    tracks_id = top_10_recommendations[user_id]\n",
    "\n",
    "    print(f\"Top 10 gợi ý cho user {user}:\")\n",
    "    for track_id in tracks_id:\n",
    "        track_row = tracks[tracks['index'] == track_id]['Track']\n",
    "        \n",
    "        if not track_row.empty:\n",
    "            print(track_row.values[0])\n",
    "        else:\n",
    "            print(f\"Không tìm thấy bài hát có index {track_id}\")\n"
   ]
  },
  {
   "cell_type": "code",
   "execution_count": 13,
   "id": "5ba0fbad-2a3d-40db-ab79-467f3eb6b2ff",
   "metadata": {},
   "outputs": [
    {
     "name": "stdout",
     "output_type": "stream",
     "text": [
      "Top 10 gợi ý cho user Babs_05:\n",
      "CHKDSK.EXE\n",
      "Dizajnerica Laura\n",
      "Aži Dahāka\n",
      "The Genesis\n",
      "Cross Off\n",
      "Sheep Of The Gazpacho's Bane\n",
      "We Are the People\n",
      "Roped In\n",
      "Episodio 1 - Il quaderno\n",
      "I Heard It Through the Grapevine\n"
     ]
    }
   ],
   "source": [
    "recommendation('Babs_05')"
   ]
  }
 ],
 "metadata": {
  "kernelspec": {
   "display_name": "Python 3 (ipykernel)",
   "language": "python",
   "name": "python3"
  },
  "language_info": {
   "codemirror_mode": {
    "name": "ipython",
    "version": 3
   },
   "file_extension": ".py",
   "mimetype": "text/x-python",
   "name": "python",
   "nbconvert_exporter": "python",
   "pygments_lexer": "ipython3",
   "version": "3.12.7"
  }
 },
 "nbformat": 4,
 "nbformat_minor": 5
}
