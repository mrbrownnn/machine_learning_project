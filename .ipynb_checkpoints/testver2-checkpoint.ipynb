{
 "cells": [
  {
   "cell_type": "code",
   "execution_count": 6,
   "id": "3db89b8e-8be0-4b87-a2fb-b6aa6d83106c",
   "metadata": {},
   "outputs": [],
   "source": [
    "import pandas as pd\n",
    "import numpy as n\n",
    "import implicit"
   ]
  },
  {
   "cell_type": "code",
   "execution_count": 9,
   "id": "88699b49-18d4-40ff-ad1d-c78b31e8c4f7",
   "metadata": {},
   "outputs": [],
   "source": [
    "df=pd.read_csv(\"data (1).csv\" )"
   ]
  },
  {
   "cell_type": "code",
   "execution_count": 10,
   "id": "118a2c3f-18dd-4011-acfd-e21d50731688",
   "metadata": {},
   "outputs": [
    {
     "name": "stdout",
     "output_type": "stream",
     "text": [
      "<class 'pandas.core.frame.DataFrame'>\n",
      "RangeIndex: 125763 entries, 0 to 125762\n",
      "Data columns (total 3 columns):\n",
      " #   Column  Non-Null Count   Dtype \n",
      "---  ------  --------------   ----- \n",
      " 0   Track   125763 non-null  object\n",
      " 1   count   125763 non-null  int64 \n",
      " 2   name    125763 non-null  object\n",
      "dtypes: int64(1), object(2)\n",
      "memory usage: 2.9+ MB\n"
     ]
    }
   ],
   "source": [
    "df.info()"
   ]
  },
  {
   "cell_type": "code",
   "execution_count": 11,
   "id": "9309457c-d0c6-4b8f-8a3f-cadb37e30cee",
   "metadata": {},
   "outputs": [
    {
     "data": {
      "text/html": [
       "<div>\n",
       "<style scoped>\n",
       "    .dataframe tbody tr th:only-of-type {\n",
       "        vertical-align: middle;\n",
       "    }\n",
       "\n",
       "    .dataframe tbody tr th {\n",
       "        vertical-align: top;\n",
       "    }\n",
       "\n",
       "    .dataframe thead th {\n",
       "        text-align: right;\n",
       "    }\n",
       "</style>\n",
       "<table border=\"1\" class=\"dataframe\">\n",
       "  <thead>\n",
       "    <tr style=\"text-align: right;\">\n",
       "      <th></th>\n",
       "      <th>Track</th>\n",
       "      <th>count</th>\n",
       "      <th>name</th>\n",
       "    </tr>\n",
       "  </thead>\n",
       "  <tbody>\n",
       "    <tr>\n",
       "      <th>0</th>\n",
       "      <td>Peur des filles</td>\n",
       "      <td>50</td>\n",
       "      <td>Babs_05</td>\n",
       "    </tr>\n",
       "    <tr>\n",
       "      <th>1</th>\n",
       "      <td>Should've Said It</td>\n",
       "      <td>50</td>\n",
       "      <td>Babs_05</td>\n",
       "    </tr>\n",
       "    <tr>\n",
       "      <th>2</th>\n",
       "      <td>A World Divided</td>\n",
       "      <td>39</td>\n",
       "      <td>Babs_05</td>\n",
       "    </tr>\n",
       "    <tr>\n",
       "      <th>3</th>\n",
       "      <td>Lustrous Heart</td>\n",
       "      <td>38</td>\n",
       "      <td>Babs_05</td>\n",
       "    </tr>\n",
       "    <tr>\n",
       "      <th>4</th>\n",
       "      <td>Rolling Ocean Waves</td>\n",
       "      <td>38</td>\n",
       "      <td>Babs_05</td>\n",
       "    </tr>\n",
       "  </tbody>\n",
       "</table>\n",
       "</div>"
      ],
      "text/plain": [
       "                 Track  count     name\n",
       "0      Peur des filles     50  Babs_05\n",
       "1    Should've Said It     50  Babs_05\n",
       "2      A World Divided     39  Babs_05\n",
       "3       Lustrous Heart     38  Babs_05\n",
       "4  Rolling Ocean Waves     38  Babs_05"
      ]
     },
     "execution_count": 11,
     "metadata": {},
     "output_type": "execute_result"
    }
   ],
   "source": [
    "df.head()"
   ]
  },
  {
   "cell_type": "code",
   "execution_count": 12,
   "id": "efd116b6-9ae2-4a88-90be-cd665b56c214",
   "metadata": {},
   "outputs": [
    {
     "data": {
      "text/html": [
       "<div>\n",
       "<style scoped>\n",
       "    .dataframe tbody tr th:only-of-type {\n",
       "        vertical-align: middle;\n",
       "    }\n",
       "\n",
       "    .dataframe tbody tr th {\n",
       "        vertical-align: top;\n",
       "    }\n",
       "\n",
       "    .dataframe thead th {\n",
       "        text-align: right;\n",
       "    }\n",
       "</style>\n",
       "<table border=\"1\" class=\"dataframe\">\n",
       "  <thead>\n",
       "    <tr style=\"text-align: right;\">\n",
       "      <th></th>\n",
       "      <th>Track</th>\n",
       "      <th>count</th>\n",
       "      <th>name</th>\n",
       "    </tr>\n",
       "  </thead>\n",
       "  <tbody>\n",
       "    <tr>\n",
       "      <th>125758</th>\n",
       "      <td>Nothing Breaks Like A Heart</td>\n",
       "      <td>1</td>\n",
       "      <td>Orlenay</td>\n",
       "    </tr>\n",
       "    <tr>\n",
       "      <th>125759</th>\n",
       "      <td>A Boat To An Island Pt. 2 / Agatha's Song</td>\n",
       "      <td>1</td>\n",
       "      <td>Orlenay</td>\n",
       "    </tr>\n",
       "    <tr>\n",
       "      <th>125760</th>\n",
       "      <td>Crazy World and You</td>\n",
       "      <td>1</td>\n",
       "      <td>Orlenay</td>\n",
       "    </tr>\n",
       "    <tr>\n",
       "      <th>125761</th>\n",
       "      <td>Who Else Could I Be</td>\n",
       "      <td>1</td>\n",
       "      <td>Orlenay</td>\n",
       "    </tr>\n",
       "    <tr>\n",
       "      <th>125762</th>\n",
       "      <td>Closest approach to your Orbit</td>\n",
       "      <td>1</td>\n",
       "      <td>Orlenay</td>\n",
       "    </tr>\n",
       "  </tbody>\n",
       "</table>\n",
       "</div>"
      ],
      "text/plain": [
       "                                            Track  count     name\n",
       "125758                Nothing Breaks Like A Heart      1  Orlenay\n",
       "125759  A Boat To An Island Pt. 2 / Agatha's Song      1  Orlenay\n",
       "125760                        Crazy World and You      1  Orlenay\n",
       "125761                        Who Else Could I Be      1  Orlenay\n",
       "125762             Closest approach to your Orbit      1  Orlenay"
      ]
     },
     "execution_count": 12,
     "metadata": {},
     "output_type": "execute_result"
    }
   ],
   "source": [
    "df.tail()"
   ]
  },
  {
   "cell_type": "code",
   "execution_count": 13,
   "id": "b4c75282-86b8-45c9-897a-d48e97674990",
   "metadata": {},
   "outputs": [
    {
     "data": {
      "text/plain": [
       "Track    0\n",
       "count    0\n",
       "name     0\n",
       "dtype: int64"
      ]
     },
     "execution_count": 13,
     "metadata": {},
     "output_type": "execute_result"
    }
   ],
   "source": [
    "df.isnull().sum()"
   ]
  },
  {
   "cell_type": "code",
   "execution_count": null,
   "id": "4382b23b-ac7b-4505-bd8c-84a03505b8cf",
   "metadata": {},
   "outputs": [],
   "source": []
  }
 ],
 "metadata": {
  "kernelspec": {
   "display_name": "Python 3 (ipykernel)",
   "language": "python",
   "name": "python3"
  },
  "language_info": {
   "codemirror_mode": {
    "name": "ipython",
    "version": 3
   },
   "file_extension": ".py",
   "mimetype": "text/x-python",
   "name": "python",
   "nbconvert_exporter": "python",
   "pygments_lexer": "ipython3",
   "version": "3.13.2"
  }
 },
 "nbformat": 4,
 "nbformat_minor": 5
}
