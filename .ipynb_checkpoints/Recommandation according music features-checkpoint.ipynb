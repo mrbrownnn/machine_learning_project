{
 "cells": [
  {
   "cell_type": "markdown",
   "id": "bc584bb5-513f-4766-9399-2640d8cfdca0",
   "metadata": {},
   "source": [
    "### Import thư viện"
   ]
  },
  {
   "cell_type": "code",
   "execution_count": 2,
   "id": "22cea1d9-92e3-4d9b-a9fc-f1da276748cc",
   "metadata": {},
   "outputs": [],
   "source": [
    "import numpy as np\n",
    "import pandas as pd\n",
    "import matplotlib.pyplot as plt\n",
    "import seaborn as sb\n",
    "\n",
    "from sklearn.metrics.pairwise import cosine_similarity\n",
    "from sklearn.feature_extraction.text import CountVectorizer\n",
    "from sklearn.manifold import TSNE\n",
    "\n",
    "import warnings\n",
    "warnings.filterwarnings('ignore')\n"
   ]
  },
  {
   "cell_type": "markdown",
   "id": "a8430648-55e2-4aea-8d79-c69e999756e9",
   "metadata": {},
   "source": [
    "### Đọc file\n"
   ]
  },
  {
   "cell_type": "code",
   "execution_count": 3,
   "id": "83ab4cbe-8361-4fbc-95ff-d6d7d33a9ac2",
   "metadata": {},
   "outputs": [
    {
     "data": {
      "text/html": [
       "<div>\n",
       "<style scoped>\n",
       "    .dataframe tbody tr th:only-of-type {\n",
       "        vertical-align: middle;\n",
       "    }\n",
       "\n",
       "    .dataframe tbody tr th {\n",
       "        vertical-align: top;\n",
       "    }\n",
       "\n",
       "    .dataframe thead th {\n",
       "        text-align: right;\n",
       "    }\n",
       "</style>\n",
       "<table border=\"1\" class=\"dataframe\">\n",
       "  <thead>\n",
       "    <tr style=\"text-align: right;\">\n",
       "      <th></th>\n",
       "      <th>track_id</th>\n",
       "      <th>track_name</th>\n",
       "      <th>track_artist</th>\n",
       "      <th>lyrics</th>\n",
       "      <th>track_popularity</th>\n",
       "      <th>track_album_id</th>\n",
       "      <th>track_album_name</th>\n",
       "      <th>track_album_release_date</th>\n",
       "      <th>playlist_name</th>\n",
       "      <th>playlist_id</th>\n",
       "      <th>...</th>\n",
       "      <th>loudness</th>\n",
       "      <th>mode</th>\n",
       "      <th>speechiness</th>\n",
       "      <th>acousticness</th>\n",
       "      <th>instrumentalness</th>\n",
       "      <th>liveness</th>\n",
       "      <th>valence</th>\n",
       "      <th>tempo</th>\n",
       "      <th>duration_ms</th>\n",
       "      <th>language</th>\n",
       "    </tr>\n",
       "  </thead>\n",
       "  <tbody>\n",
       "    <tr>\n",
       "      <th>0</th>\n",
       "      <td>0017A6SJgTbfQVU2EtsPNo</td>\n",
       "      <td>Pangarap</td>\n",
       "      <td>Barbie's Cradle</td>\n",
       "      <td>Minsan pa Nang ako'y napalingon Hindi ko alam ...</td>\n",
       "      <td>41</td>\n",
       "      <td>1srJQ0njEQgd8w4XSqI4JQ</td>\n",
       "      <td>Trip</td>\n",
       "      <td>2001-01-01</td>\n",
       "      <td>Pinoy Classic Rock</td>\n",
       "      <td>37i9dQZF1DWYDQ8wBxd7xt</td>\n",
       "      <td>...</td>\n",
       "      <td>-10.068</td>\n",
       "      <td>1</td>\n",
       "      <td>0.0236</td>\n",
       "      <td>0.27900</td>\n",
       "      <td>0.01170</td>\n",
       "      <td>0.0887</td>\n",
       "      <td>0.566</td>\n",
       "      <td>97.091</td>\n",
       "      <td>235440</td>\n",
       "      <td>tl</td>\n",
       "    </tr>\n",
       "    <tr>\n",
       "      <th>1</th>\n",
       "      <td>004s3t0ONYlzxII9PLgU6z</td>\n",
       "      <td>I Feel Alive</td>\n",
       "      <td>Steady Rollin</td>\n",
       "      <td>The trees, are singing in the wind The sky blu...</td>\n",
       "      <td>28</td>\n",
       "      <td>3z04Lb9Dsilqw68SHt6jLB</td>\n",
       "      <td>Love &amp; Loss</td>\n",
       "      <td>2017-11-21</td>\n",
       "      <td>Hard Rock Workout</td>\n",
       "      <td>3YouF0u7waJnolytf9JCXf</td>\n",
       "      <td>...</td>\n",
       "      <td>-4.739</td>\n",
       "      <td>1</td>\n",
       "      <td>0.0442</td>\n",
       "      <td>0.01170</td>\n",
       "      <td>0.00994</td>\n",
       "      <td>0.3470</td>\n",
       "      <td>0.404</td>\n",
       "      <td>135.225</td>\n",
       "      <td>373512</td>\n",
       "      <td>en</td>\n",
       "    </tr>\n",
       "    <tr>\n",
       "      <th>2</th>\n",
       "      <td>00chLpzhgVjxs1zKC9UScL</td>\n",
       "      <td>Poison</td>\n",
       "      <td>Bell Biv DeVoe</td>\n",
       "      <td>NA Yeah, Spyderman and Freeze in full effect U...</td>\n",
       "      <td>0</td>\n",
       "      <td>6oZ6brjB8x3GoeSYdwJdPc</td>\n",
       "      <td>Gold</td>\n",
       "      <td>2005-01-01</td>\n",
       "      <td>Back in the day - R&amp;B, New Jack Swing, Swingbe...</td>\n",
       "      <td>3a9y4eeCJRmG9p4YKfqYIx</td>\n",
       "      <td>...</td>\n",
       "      <td>-7.504</td>\n",
       "      <td>0</td>\n",
       "      <td>0.2160</td>\n",
       "      <td>0.00432</td>\n",
       "      <td>0.00723</td>\n",
       "      <td>0.4890</td>\n",
       "      <td>0.650</td>\n",
       "      <td>111.904</td>\n",
       "      <td>262467</td>\n",
       "      <td>en</td>\n",
       "    </tr>\n",
       "    <tr>\n",
       "      <th>3</th>\n",
       "      <td>00cqd6ZsSkLZqGMlQCR0Zo</td>\n",
       "      <td>Baby It's Cold Outside (feat. Christina Aguilera)</td>\n",
       "      <td>CeeLo Green</td>\n",
       "      <td>I really can't stay Baby it's cold outside I'v...</td>\n",
       "      <td>41</td>\n",
       "      <td>3ssspRe42CXkhPxdc12xcp</td>\n",
       "      <td>CeeLo's Magic Moment</td>\n",
       "      <td>2012-10-29</td>\n",
       "      <td>Christmas Soul</td>\n",
       "      <td>6FZYc2BvF7tColxO8PBShV</td>\n",
       "      <td>...</td>\n",
       "      <td>-5.819</td>\n",
       "      <td>0</td>\n",
       "      <td>0.0341</td>\n",
       "      <td>0.68900</td>\n",
       "      <td>0.00000</td>\n",
       "      <td>0.0664</td>\n",
       "      <td>0.405</td>\n",
       "      <td>118.593</td>\n",
       "      <td>243067</td>\n",
       "      <td>en</td>\n",
       "    </tr>\n",
       "    <tr>\n",
       "      <th>4</th>\n",
       "      <td>00emjlCv9azBN0fzuuyLqy</td>\n",
       "      <td>Dumb Litty</td>\n",
       "      <td>KARD</td>\n",
       "      <td>Get up out of my business You don't keep me fr...</td>\n",
       "      <td>65</td>\n",
       "      <td>7h5X3xhh3peIK9Y0qI5hbK</td>\n",
       "      <td>KARD 2nd Digital Single ‘Dumb Litty’</td>\n",
       "      <td>2019-09-22</td>\n",
       "      <td>K-Party Dance Mix</td>\n",
       "      <td>37i9dQZF1DX4RDXswvP6Mj</td>\n",
       "      <td>...</td>\n",
       "      <td>-1.993</td>\n",
       "      <td>1</td>\n",
       "      <td>0.0409</td>\n",
       "      <td>0.03700</td>\n",
       "      <td>0.00000</td>\n",
       "      <td>0.1380</td>\n",
       "      <td>0.240</td>\n",
       "      <td>130.018</td>\n",
       "      <td>193160</td>\n",
       "      <td>en</td>\n",
       "    </tr>\n",
       "  </tbody>\n",
       "</table>\n",
       "<p>5 rows × 25 columns</p>\n",
       "</div>"
      ],
      "text/plain": [
       "                 track_id                                         track_name  \\\n",
       "0  0017A6SJgTbfQVU2EtsPNo                                           Pangarap   \n",
       "1  004s3t0ONYlzxII9PLgU6z                                       I Feel Alive   \n",
       "2  00chLpzhgVjxs1zKC9UScL                                             Poison   \n",
       "3  00cqd6ZsSkLZqGMlQCR0Zo  Baby It's Cold Outside (feat. Christina Aguilera)   \n",
       "4  00emjlCv9azBN0fzuuyLqy                                         Dumb Litty   \n",
       "\n",
       "      track_artist                                             lyrics  \\\n",
       "0  Barbie's Cradle  Minsan pa Nang ako'y napalingon Hindi ko alam ...   \n",
       "1    Steady Rollin  The trees, are singing in the wind The sky blu...   \n",
       "2   Bell Biv DeVoe  NA Yeah, Spyderman and Freeze in full effect U...   \n",
       "3      CeeLo Green  I really can't stay Baby it's cold outside I'v...   \n",
       "4             KARD  Get up out of my business You don't keep me fr...   \n",
       "\n",
       "   track_popularity          track_album_id  \\\n",
       "0                41  1srJQ0njEQgd8w4XSqI4JQ   \n",
       "1                28  3z04Lb9Dsilqw68SHt6jLB   \n",
       "2                 0  6oZ6brjB8x3GoeSYdwJdPc   \n",
       "3                41  3ssspRe42CXkhPxdc12xcp   \n",
       "4                65  7h5X3xhh3peIK9Y0qI5hbK   \n",
       "\n",
       "                       track_album_name track_album_release_date  \\\n",
       "0                                  Trip               2001-01-01   \n",
       "1                           Love & Loss               2017-11-21   \n",
       "2                                  Gold               2005-01-01   \n",
       "3                  CeeLo's Magic Moment               2012-10-29   \n",
       "4  KARD 2nd Digital Single ‘Dumb Litty’               2019-09-22   \n",
       "\n",
       "                                       playlist_name             playlist_id  \\\n",
       "0                                 Pinoy Classic Rock  37i9dQZF1DWYDQ8wBxd7xt   \n",
       "1                                  Hard Rock Workout  3YouF0u7waJnolytf9JCXf   \n",
       "2  Back in the day - R&B, New Jack Swing, Swingbe...  3a9y4eeCJRmG9p4YKfqYIx   \n",
       "3                                     Christmas Soul  6FZYc2BvF7tColxO8PBShV   \n",
       "4                                  K-Party Dance Mix  37i9dQZF1DX4RDXswvP6Mj   \n",
       "\n",
       "   ... loudness mode  speechiness  acousticness  instrumentalness  liveness  \\\n",
       "0  ...  -10.068    1       0.0236       0.27900           0.01170    0.0887   \n",
       "1  ...   -4.739    1       0.0442       0.01170           0.00994    0.3470   \n",
       "2  ...   -7.504    0       0.2160       0.00432           0.00723    0.4890   \n",
       "3  ...   -5.819    0       0.0341       0.68900           0.00000    0.0664   \n",
       "4  ...   -1.993    1       0.0409       0.03700           0.00000    0.1380   \n",
       "\n",
       "   valence    tempo  duration_ms  language  \n",
       "0    0.566   97.091       235440        tl  \n",
       "1    0.404  135.225       373512        en  \n",
       "2    0.650  111.904       262467        en  \n",
       "3    0.405  118.593       243067        en  \n",
       "4    0.240  130.018       193160        en  \n",
       "\n",
       "[5 rows x 25 columns]"
      ]
     },
     "execution_count": 3,
     "metadata": {},
     "output_type": "execute_result"
    }
   ],
   "source": [
    "tracks = pd.read_csv('./spotify_songs.csv')\n",
    "tracks.head()\n"
   ]
  },
  {
   "cell_type": "code",
   "execution_count": 4,
   "id": "78fd4e58-2c4a-46f9-8c66-83f8ecc61a20",
   "metadata": {},
   "outputs": [
    {
     "data": {
      "text/plain": [
       "(18454, 25)"
      ]
     },
     "execution_count": 4,
     "metadata": {},
     "output_type": "execute_result"
    }
   ],
   "source": [
    "tracks.shape\n"
   ]
  },
  {
   "cell_type": "code",
   "execution_count": 5,
   "id": "c2d99488-0333-402d-af25-d5249bde9225",
   "metadata": {},
   "outputs": [
    {
     "name": "stdout",
     "output_type": "stream",
     "text": [
      "<class 'pandas.core.frame.DataFrame'>\n",
      "RangeIndex: 18454 entries, 0 to 18453\n",
      "Data columns (total 25 columns):\n",
      " #   Column                    Non-Null Count  Dtype  \n",
      "---  ------                    --------------  -----  \n",
      " 0   track_id                  18454 non-null  object \n",
      " 1   track_name                18454 non-null  object \n",
      " 2   track_artist              18454 non-null  object \n",
      " 3   lyrics                    18194 non-null  object \n",
      " 4   track_popularity          18454 non-null  int64  \n",
      " 5   track_album_id            18454 non-null  object \n",
      " 6   track_album_name          18454 non-null  object \n",
      " 7   track_album_release_date  18454 non-null  object \n",
      " 8   playlist_name             18454 non-null  object \n",
      " 9   playlist_id               18454 non-null  object \n",
      " 10  playlist_genre            18454 non-null  object \n",
      " 11  playlist_subgenre         18454 non-null  object \n",
      " 12  danceability              18454 non-null  float64\n",
      " 13  energy                    18454 non-null  float64\n",
      " 14  key                       18454 non-null  int64  \n",
      " 15  loudness                  18454 non-null  float64\n",
      " 16  mode                      18454 non-null  int64  \n",
      " 17  speechiness               18454 non-null  float64\n",
      " 18  acousticness              18454 non-null  float64\n",
      " 19  instrumentalness          18454 non-null  float64\n",
      " 20  liveness                  18454 non-null  float64\n",
      " 21  valence                   18454 non-null  float64\n",
      " 22  tempo                     18454 non-null  float64\n",
      " 23  duration_ms               18454 non-null  int64  \n",
      " 24  language                  18194 non-null  object \n",
      "dtypes: float64(9), int64(4), object(12)\n",
      "memory usage: 3.5+ MB\n"
     ]
    }
   ],
   "source": [
    "tracks.info()\n"
   ]
  },
  {
   "cell_type": "markdown",
   "id": "98915b73-ccde-4739-9877-83f5099679a1",
   "metadata": {},
   "source": [
    "### Đếm và xóa các hàng có giá trị null"
   ]
  },
  {
   "cell_type": "code",
   "execution_count": 6,
   "id": "ca54ca86-ed2c-42e2-a39c-b332d19de94f",
   "metadata": {},
   "outputs": [
    {
     "data": {
      "text/plain": [
       "track_id                      0\n",
       "track_name                    0\n",
       "track_artist                  0\n",
       "lyrics                      260\n",
       "track_popularity              0\n",
       "track_album_id                0\n",
       "track_album_name              0\n",
       "track_album_release_date      0\n",
       "playlist_name                 0\n",
       "playlist_id                   0\n",
       "playlist_genre                0\n",
       "playlist_subgenre             0\n",
       "danceability                  0\n",
       "energy                        0\n",
       "key                           0\n",
       "loudness                      0\n",
       "mode                          0\n",
       "speechiness                   0\n",
       "acousticness                  0\n",
       "instrumentalness              0\n",
       "liveness                      0\n",
       "valence                       0\n",
       "tempo                         0\n",
       "duration_ms                   0\n",
       "language                    260\n",
       "dtype: int64"
      ]
     },
     "execution_count": 6,
     "metadata": {},
     "output_type": "execute_result"
    }
   ],
   "source": [
    "tracks.isnull().sum()\n"
   ]
  },
  {
   "cell_type": "code",
   "execution_count": 7,
   "id": "d53d8e7e-ac2e-4d12-bea2-f49b33529922",
   "metadata": {},
   "outputs": [
    {
     "data": {
      "image/png": "[encoded data removed]",
      "text/plain": [
       "<Figure size 640x480 with 1 Axes>"
      ]
     },
     "metadata": {},
     "output_type": "display_data"
    }
   ],
   "source": [
    "tracks.dropna(inplace = True)\n",
    "tracks.isnull().sum().plot.bar()\n",
    "plt.show()\n"
   ]
  },
  {
   "cell_type": "markdown",
   "id": "7a275f64-4f25-4ee0-a418-11b16d1aa395",
   "metadata": {},
   "source": [
    "### Bỏ các cột không liên quan "
   ]
  },
  {
   "cell_type": "code",
   "execution_count": 8,
   "id": "a9119236-e52d-4b37-8f7c-7805f7785f3d",
   "metadata": {
    "scrolled": true
   },
   "outputs": [],
   "source": [
    "tracks = tracks.drop(['track_id', 'track_album_id', 'playlist_id', 'lyrics', 'language'], axis = 1)"
   ]
  },
  {
   "cell_type": "markdown",
   "id": "9e5426a7-0bb4-497a-99da-dfc4107b6656",
   "metadata": {},
   "source": [
    "### Xóa các phiên bản của một bài hát và lấy bản phổ biến nhất"
   ]
  },
  {
   "cell_type": "code",
   "execution_count": 9,
   "id": "120feb60-a851-4ba3-a51b-3624fe27d385",
   "metadata": {},
   "outputs": [],
   "source": [
    "tracks = tracks.sort_values(by=['track_popularity'], ascending=False)\n",
    "tracks.drop_duplicates(subset=['track_name'], keep='first', inplace=True)\n"
   ]
  },
  {
   "cell_type": "code",
   "execution_count": 12,
   "id": "6f004ee4-ef56-4d44-838f-ac2f3a674ab2",
   "metadata": {},
   "outputs": [],
   "source": [
    "tracks = tracks.sort_values(by=['track_popularity'], ascending=False).head(10000)\n"
   ]
  },
  {
   "cell_type": "markdown",
   "id": "0d2cc290-2985-470f-b163-a6afdc96d7e9",
   "metadata": {},
   "source": [
    "### Hàm tính độ tương đồng về tính năng âm nhạc và thể loại giữa bài hát được chọn với các bài hát khác"
   ]
  },
  {
   "cell_type": "code",
   "execution_count": 13,
   "id": "e6481dd1-45bb-4120-a620-2db1df0c3f04",
   "metadata": {},
   "outputs": [],
   "source": [
    "%%capture\n",
    "song_vectorizer = CountVectorizer()\n",
    "song_vectorizer.fit(tracks['playlist_subgenre'])\n"
   ]
  },
  {
   "metadata": {},
   "cell_type": "code",
   "outputs": [],
   "execution_count": null,
   "source": "",
   "id": "16a4ed4e2394af35"
  },
  {
   "cell_type": "code",
   "execution_count": 14,
   "id": "d4711762-8a81-4d12-9940-ca767705ab5a",
   "metadata": {},
   "outputs": [],
   "source": [
    "def get_similarities(song_name, data):\n",
    "\n",
    "    # Getting vector for the input song.\n",
    "    text_array1 = song_vectorizer.transform(data[data['track_name']==song_name]['playlist_subgenre']).toarray()\n",
    "    num_array1 = data[data['track_name']==song_name].select_dtypes(include=np.number).to_numpy()\n",
    "    \n",
    "    # We will store similarity for each row of the dataset.\n",
    "    sim = []\n",
    "    for idx, row in data.iterrows():\n",
    "    \tname = row['track_name']\n",
    "    \t\n",
    "    \t# Getting vector for current song.\n",
    "    \ttext_array2 = song_vectorizer.transform(data[data['track_name']==name]['playlist_subgenre']).toarray()\n",
    "    \tnum_array2 = data[data['track_name']==name].select_dtypes(include=np.number).to_numpy()\n",
    "    \n",
    "    \t# Calculating similarities for text as well as numeric features\n",
    "    \ttext_sim = cosine_similarity(text_array1, text_array2)[0][0]\n",
    "    \tnum_sim = cosine_similarity(num_array1, num_array2)[0][0]\n",
    "    \tsim.append(text_sim + num_sim)\n",
    "    \t\n",
    "    return sim\n"
   ]
  },
  {
   "cell_type": "markdown",
   "id": "214474b6-8e97-49e8-9862-8dfb08f91aaa",
   "metadata": {},
   "source": [
    "### Hàm đề xuất 5 bài hát có độ tương đồng nhất"
   ]
  },
  {
   "cell_type": "code",
   "execution_count": 15,
   "id": "e847ebec-b374-40cf-8cdd-8079668684cf",
   "metadata": {},
   "outputs": [],
   "source": [
    "def recommend_songs(song_name, data=tracks):\n",
    "    # Base case\n",
    "    if tracks[tracks['track_name'] == song_name].shape[0] == 0:\n",
    "        print('This song is either not so popular or you\\\n",
    "        have entered invalid_name.\\nSome songs you may like:\\n')\n",
    "        \n",
    "        for song in data.sample(n=5)['track_name'].values:\n",
    "            print(song)\n",
    "        \n",
    "        return      \n",
    "    data['similarity_factor'] = get_similarities(song_name, data)\n",
    "    \n",
    "    data.sort_values(by=['similarity_factor', 'track_popularity'], ascending=[False, False], inplace=True)\n",
    "    \n",
    "    # First song will be the input song itself as the similarity will be highest.\n",
    "    display(data[['track_name', 'track_artist']][2:7])\n"
   ]
  },
  {
   "cell_type": "code",
   "execution_count": 32,
   "id": "698d0a27-f6c8-4b5d-b46a-b833257f340a",
   "metadata": {},
   "outputs": [
    {
     "data": {
      "text/html": [
       "<div>\n",
       "<style scoped>\n",
       "    .dataframe tbody tr th:only-of-type {\n",
       "        vertical-align: middle;\n",
       "    }\n",
       "\n",
       "    .dataframe tbody tr th {\n",
       "        vertical-align: top;\n",
       "    }\n",
       "\n",
       "    .dataframe thead th {\n",
       "        text-align: right;\n",
       "    }\n",
       "</style>\n",
       "<table border=\"1\" class=\"dataframe\">\n",
       "  <thead>\n",
       "    <tr style=\"text-align: right;\">\n",
       "      <th></th>\n",
       "      <th>track_name</th>\n",
       "      <th>track_artist</th>\n",
       "    </tr>\n",
       "  </thead>\n",
       "  <tbody>\n",
       "    <tr>\n",
       "      <th>567</th>\n",
       "      <td>Easy - Remix</td>\n",
       "      <td>Jhay Cortez</td>\n",
       "    </tr>\n",
       "    <tr>\n",
       "      <th>18071</th>\n",
       "      <td>Shape of You</td>\n",
       "      <td>Ed Sheeran</td>\n",
       "    </tr>\n",
       "    <tr>\n",
       "      <th>13363</th>\n",
       "      <td>Never Really Over</td>\n",
       "      <td>Katy Perry</td>\n",
       "    </tr>\n",
       "    <tr>\n",
       "      <th>15902</th>\n",
       "      <td>Something Just Like This</td>\n",
       "      <td>The Chainsmokers</td>\n",
       "    </tr>\n",
       "    <tr>\n",
       "      <th>10204</th>\n",
       "      <td>Girl On Fire</td>\n",
       "      <td>Alicia Keys</td>\n",
       "    </tr>\n",
       "  </tbody>\n",
       "</table>\n",
       "</div>"
      ],
      "text/plain": [
       "                     track_name      track_artist\n",
       "567                Easy - Remix       Jhay Cortez\n",
       "18071              Shape of You        Ed Sheeran\n",
       "13363         Never Really Over        Katy Perry\n",
       "15902  Something Just Like This  The Chainsmokers\n",
       "10204              Girl On Fire       Alicia Keys"
      ]
     },
     "metadata": {},
     "output_type": "display_data"
    }
   ],
   "source": [
    "recommend_songs('Faded')"
   ]
  }
 ],
 "metadata": {
  "kernelspec": {
   "display_name": "Python 3 (ipykernel)",
   "language": "python",
   "name": "python3"
  },
  "language_info": {
   "codemirror_mode": {
    "name": "ipython",
    "version": 3
   },
   "file_extension": ".py",
   "mimetype": "text/x-python",
   "name": "python",
   "nbconvert_exporter": "python",
   "pygments_lexer": "ipython3",
   "version": "3.12.7"
  }
 },
 "nbformat": 4,
 "nbformat_minor": 5
}
