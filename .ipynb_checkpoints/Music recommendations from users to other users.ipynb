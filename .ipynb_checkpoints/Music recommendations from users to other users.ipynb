{
 "cells": [
  {
   "cell_type": "code",
   "execution_count": 1,
   "id": "6672005e-d193-40d1-8ec2-963a90888cb7",
   "metadata": {},
   "outputs": [],
   "source": [
    "import numpy as np\n",
    "import matplotlib.pyplot as plt\n",
    "import seaborn as sb\n",
    "\n",
    "import pandas as pd\n",
    "from pandas import read_csv\n",
    "from sklearn.metrics.pairwise import cosine_similarity\n",
    "from sklearn.feature_extraction.text import CountVectorizer\n",
    "from sklearn.manifold import TSNE\n",
    "\n",
    "import warnings\n",
    "warnings.filterwarnings('ignore')\n"
   ]
  },
  {
   "cell_type": "code",
   "execution_count": 3,
   "id": "9e0a26f8-cefa-4424-afa0-612a0e3ecba9",
   "metadata": {},
   "outputs": [
    {
     "name": "stdout",
     "output_type": "stream",
     "text": [
      "<class 'pandas.core.frame.DataFrame'>\n",
      "RangeIndex: 166153 entries, 0 to 166152\n",
      "Data columns (total 7 columns):\n",
      " #   Column      Non-Null Count   Dtype \n",
      "---  ------      --------------   ----- \n",
      " 0   Unnamed: 0  166153 non-null  int64 \n",
      " 1   Username    166153 non-null  object\n",
      " 2   Artist      166153 non-null  object\n",
      " 3   Track       166153 non-null  object\n",
      " 4   Album       166141 non-null  object\n",
      " 5   Date        166153 non-null  object\n",
      " 6   Time        166153 non-null  object\n",
      "dtypes: int64(1), object(6)\n",
      "memory usage: 8.9+ MB\n",
      "None\n"
     ]
    },
    {
     "data": {
      "text/html": [
       "<div>\n",
       "<style scoped>\n",
       "    .dataframe tbody tr th:only-of-type {\n",
       "        vertical-align: middle;\n",
       "    }\n",
       "\n",
       "    .dataframe tbody tr th {\n",
       "        vertical-align: top;\n",
       "    }\n",
       "\n",
       "    .dataframe thead th {\n",
       "        text-align: right;\n",
       "    }\n",
       "</style>\n",
       "<table border=\"1\" class=\"dataframe\">\n",
       "  <thead>\n",
       "    <tr style=\"text-align: right;\">\n",
       "      <th></th>\n",
       "      <th>Unnamed: 0</th>\n",
       "      <th>Username</th>\n",
       "      <th>Artist</th>\n",
       "      <th>Track</th>\n",
       "      <th>Album</th>\n",
       "      <th>Date</th>\n",
       "      <th>Time</th>\n",
       "    </tr>\n",
       "  </thead>\n",
       "  <tbody>\n",
       "    <tr>\n",
       "      <th>0</th>\n",
       "      <td>0</td>\n",
       "      <td>Babs_05</td>\n",
       "      <td>Isobel Campbell</td>\n",
       "      <td>The Circus Is Leaving Town</td>\n",
       "      <td>Ballad of the Broken Seas</td>\n",
       "      <td>31 Jan 2021</td>\n",
       "      <td>23:36</td>\n",
       "    </tr>\n",
       "    <tr>\n",
       "      <th>1</th>\n",
       "      <td>1</td>\n",
       "      <td>Babs_05</td>\n",
       "      <td>Isobel Campbell</td>\n",
       "      <td>Dusty Wreath</td>\n",
       "      <td>Ballad of the Broken Seas</td>\n",
       "      <td>31 Jan 2021</td>\n",
       "      <td>23:32</td>\n",
       "    </tr>\n",
       "    <tr>\n",
       "      <th>2</th>\n",
       "      <td>2</td>\n",
       "      <td>Babs_05</td>\n",
       "      <td>Isobel Campbell</td>\n",
       "      <td>Honey Child What Can I Do?</td>\n",
       "      <td>Ballad of the Broken Seas</td>\n",
       "      <td>31 Jan 2021</td>\n",
       "      <td>23:28</td>\n",
       "    </tr>\n",
       "    <tr>\n",
       "      <th>3</th>\n",
       "      <td>3</td>\n",
       "      <td>Babs_05</td>\n",
       "      <td>Isobel Campbell</td>\n",
       "      <td>It's Hard To Kill A Bad Thing</td>\n",
       "      <td>Ballad of the Broken Seas</td>\n",
       "      <td>31 Jan 2021</td>\n",
       "      <td>23:25</td>\n",
       "    </tr>\n",
       "    <tr>\n",
       "      <th>4</th>\n",
       "      <td>4</td>\n",
       "      <td>Babs_05</td>\n",
       "      <td>Isobel Campbell</td>\n",
       "      <td>Saturday's Gone</td>\n",
       "      <td>Ballad of the Broken Seas</td>\n",
       "      <td>31 Jan 2021</td>\n",
       "      <td>23:21</td>\n",
       "    </tr>\n",
       "  </tbody>\n",
       "</table>\n",
       "</div>"
      ],
      "text/plain": [
       "   Unnamed: 0 Username           Artist                          Track  \\\n",
       "0           0  Babs_05  Isobel Campbell     The Circus Is Leaving Town   \n",
       "1           1  Babs_05  Isobel Campbell                   Dusty Wreath   \n",
       "2           2  Babs_05  Isobel Campbell     Honey Child What Can I Do?   \n",
       "3           3  Babs_05  Isobel Campbell  It's Hard To Kill A Bad Thing   \n",
       "4           4  Babs_05  Isobel Campbell                Saturday's Gone   \n",
       "\n",
       "                       Album         Date    Time  \n",
       "0  Ballad of the Broken Seas  31 Jan 2021   23:36  \n",
       "1  Ballad of the Broken Seas  31 Jan 2021   23:32  \n",
       "2  Ballad of the Broken Seas  31 Jan 2021   23:28  \n",
       "3  Ballad of the Broken Seas  31 Jan 2021   23:25  \n",
       "4  Ballad of the Broken Seas  31 Jan 2021   23:21  "
      ]
     },
     "metadata": {},
     "output_type": "display_data"
    }
   ],
   "source": [
    "newtracks = pd.read_csv('Last.fm_data.csv')\n",
    "# newtrack2 = pd.read_csv('spotify_songs.csv')\n",
    "\n",
    "# Hiển thị thông tin tổng quan về dữ liệu\n",
    "print(newtracks.info())\n",
    "# print(newtrack2.info())\n",
    "\n",
    "# Hiển thị một vài dòng đầu tiên\n",
    "display(newtracks.head())"
   ]
  },
  {
   "cell_type": "code",
   "execution_count": 5,
   "id": "83c44b40-dd45-45ce-9b57-ad012849bdb6",
   "metadata": {},
   "outputs": [
    {
     "name": "stdout",
     "output_type": "stream",
     "text": [
      "Index(['Unnamed: 0', 'Username', 'Artist', 'Track', 'Album', 'Date', 'Time',\n",
      "       'listen_count'],\n",
      "      dtype='object')\n"
     ]
    }
   ],
   "source": [
    "#Create new columns display listen count form user\n",
    "newtracks['listen_count'] = newtracks.groupby(['Username', 'Track']).cumcount() + 1\n",
    "# Display the first few rows to verify\n",
    "print(newtracks.columns)"
   ]
  },
  {
   "cell_type": "code",
   "execution_count": null,
   "id": "d9f03a7a-9e5e-4ae6-81ad-d01ba4e44984",
   "metadata": {},
   "outputs": [],
   "source": []
  }
 ],
 "metadata": {
  "kernelspec": {
   "display_name": "Python [conda env:base] *",
   "language": "python",
   "name": "conda-base-py"
  },
  "language_info": {
   "codemirror_mode": {
    "name": "ipython",
    "version": 3
   },
   "file_extension": ".py",
   "mimetype": "text/x-python",
   "name": "python",
   "nbconvert_exporter": "python",
   "pygments_lexer": "ipython3",
   "version": "3.12.7"
  }
 },
 "nbformat": 4,
 "nbformat_minor": 5
}
