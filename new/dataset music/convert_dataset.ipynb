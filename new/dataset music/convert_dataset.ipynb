{
 "cells": [
  {
   "cell_type": "code",
   "execution_count": 1,
   "id": "91d85bb5-d85e-4fc8-98e6-64066b3ef65f",
   "metadata": {},
   "outputs": [],
   "source": [
    "import numpy as np\n",
    "import pandas as pd"
   ]
  },
  {
   "cell_type": "code",
   "execution_count": 2,
   "id": "17f4cc86-7f16-457a-b2b7-c6d859ac3291",
   "metadata": {},
   "outputs": [],
   "source": [
    "df = pd.read_csv(\"Last.fm_data.csv\")"
   ]
  },
  {
   "cell_type": "code",
   "execution_count": 3,
   "id": "7eec2b15-42ba-441b-8f46-e1c593c454e6",
   "metadata": {},
   "outputs": [
    {
     "data": {
      "text/html": [
       "<div>\n",
       "<style scoped>\n",
       "    .dataframe tbody tr th:only-of-type {\n",
       "        vertical-align: middle;\n",
       "    }\n",
       "\n",
       "    .dataframe tbody tr th {\n",
       "        vertical-align: top;\n",
       "    }\n",
       "\n",
       "    .dataframe thead th {\n",
       "        text-align: right;\n",
       "    }\n",
       "</style>\n",
       "<table border=\"1\" class=\"dataframe\">\n",
       "  <thead>\n",
       "    <tr style=\"text-align: right;\">\n",
       "      <th></th>\n",
       "      <th>Unnamed: 0</th>\n",
       "      <th>Username</th>\n",
       "      <th>Artist</th>\n",
       "      <th>Track</th>\n",
       "      <th>Album</th>\n",
       "      <th>Date</th>\n",
       "      <th>Time</th>\n",
       "    </tr>\n",
       "  </thead>\n",
       "  <tbody>\n",
       "    <tr>\n",
       "      <th>0</th>\n",
       "      <td>0</td>\n",
       "      <td>Babs_05</td>\n",
       "      <td>Isobel Campbell</td>\n",
       "      <td>The Circus Is Leaving Town</td>\n",
       "      <td>Ballad of the Broken Seas</td>\n",
       "      <td>31 Jan 2021</td>\n",
       "      <td>23:36</td>\n",
       "    </tr>\n",
       "    <tr>\n",
       "      <th>1</th>\n",
       "      <td>1</td>\n",
       "      <td>Babs_05</td>\n",
       "      <td>Isobel Campbell</td>\n",
       "      <td>Dusty Wreath</td>\n",
       "      <td>Ballad of the Broken Seas</td>\n",
       "      <td>31 Jan 2021</td>\n",
       "      <td>23:32</td>\n",
       "    </tr>\n",
       "    <tr>\n",
       "      <th>2</th>\n",
       "      <td>2</td>\n",
       "      <td>Babs_05</td>\n",
       "      <td>Isobel Campbell</td>\n",
       "      <td>Honey Child What Can I Do?</td>\n",
       "      <td>Ballad of the Broken Seas</td>\n",
       "      <td>31 Jan 2021</td>\n",
       "      <td>23:28</td>\n",
       "    </tr>\n",
       "    <tr>\n",
       "      <th>3</th>\n",
       "      <td>3</td>\n",
       "      <td>Babs_05</td>\n",
       "      <td>Isobel Campbell</td>\n",
       "      <td>It's Hard To Kill A Bad Thing</td>\n",
       "      <td>Ballad of the Broken Seas</td>\n",
       "      <td>31 Jan 2021</td>\n",
       "      <td>23:25</td>\n",
       "    </tr>\n",
       "    <tr>\n",
       "      <th>4</th>\n",
       "      <td>4</td>\n",
       "      <td>Babs_05</td>\n",
       "      <td>Isobel Campbell</td>\n",
       "      <td>Saturday's Gone</td>\n",
       "      <td>Ballad of the Broken Seas</td>\n",
       "      <td>31 Jan 2021</td>\n",
       "      <td>23:21</td>\n",
       "    </tr>\n",
       "  </tbody>\n",
       "</table>\n",
       "</div>"
      ],
      "text/plain": [
       "   Unnamed: 0 Username           Artist                          Track  \\\n",
       "0           0  Babs_05  Isobel Campbell     The Circus Is Leaving Town   \n",
       "1           1  Babs_05  Isobel Campbell                   Dusty Wreath   \n",
       "2           2  Babs_05  Isobel Campbell     Honey Child What Can I Do?   \n",
       "3           3  Babs_05  Isobel Campbell  It's Hard To Kill A Bad Thing   \n",
       "4           4  Babs_05  Isobel Campbell                Saturday's Gone   \n",
       "\n",
       "                       Album         Date    Time  \n",
       "0  Ballad of the Broken Seas  31 Jan 2021   23:36  \n",
       "1  Ballad of the Broken Seas  31 Jan 2021   23:32  \n",
       "2  Ballad of the Broken Seas  31 Jan 2021   23:28  \n",
       "3  Ballad of the Broken Seas  31 Jan 2021   23:25  \n",
       "4  Ballad of the Broken Seas  31 Jan 2021   23:21  "
      ]
     },
     "execution_count": 3,
     "metadata": {},
     "output_type": "execute_result"
    }
   ],
   "source": [
    "df.head()"
   ]
  },
  {
   "cell_type": "code",
   "execution_count": 4,
   "id": "1140ca01-68cc-4c8f-a4b0-e4fa3a1f7dee",
   "metadata": {},
   "outputs": [],
   "source": [
    "df_new = df.drop(['Artist', 'Album', 'Date', 'Time'], axis=1)"
   ]
  },
  {
   "cell_type": "code",
   "execution_count": 5,
   "id": "a510f587-7a45-4793-a679-a4fcd4672c23",
   "metadata": {},
   "outputs": [
    {
     "data": {
      "text/html": [
       "<div>\n",
       "<style scoped>\n",
       "    .dataframe tbody tr th:only-of-type {\n",
       "        vertical-align: middle;\n",
       "    }\n",
       "\n",
       "    .dataframe tbody tr th {\n",
       "        vertical-align: top;\n",
       "    }\n",
       "\n",
       "    .dataframe thead th {\n",
       "        text-align: right;\n",
       "    }\n",
       "</style>\n",
       "<table border=\"1\" class=\"dataframe\">\n",
       "  <thead>\n",
       "    <tr style=\"text-align: right;\">\n",
       "      <th></th>\n",
       "      <th>Unnamed: 0</th>\n",
       "      <th>Username</th>\n",
       "      <th>Track</th>\n",
       "    </tr>\n",
       "  </thead>\n",
       "  <tbody>\n",
       "    <tr>\n",
       "      <th>0</th>\n",
       "      <td>0</td>\n",
       "      <td>Babs_05</td>\n",
       "      <td>The Circus Is Leaving Town</td>\n",
       "    </tr>\n",
       "    <tr>\n",
       "      <th>1</th>\n",
       "      <td>1</td>\n",
       "      <td>Babs_05</td>\n",
       "      <td>Dusty Wreath</td>\n",
       "    </tr>\n",
       "    <tr>\n",
       "      <th>2</th>\n",
       "      <td>2</td>\n",
       "      <td>Babs_05</td>\n",
       "      <td>Honey Child What Can I Do?</td>\n",
       "    </tr>\n",
       "    <tr>\n",
       "      <th>3</th>\n",
       "      <td>3</td>\n",
       "      <td>Babs_05</td>\n",
       "      <td>It's Hard To Kill A Bad Thing</td>\n",
       "    </tr>\n",
       "    <tr>\n",
       "      <th>4</th>\n",
       "      <td>4</td>\n",
       "      <td>Babs_05</td>\n",
       "      <td>Saturday's Gone</td>\n",
       "    </tr>\n",
       "  </tbody>\n",
       "</table>\n",
       "</div>"
      ],
      "text/plain": [
       "   Unnamed: 0 Username                          Track\n",
       "0           0  Babs_05     The Circus Is Leaving Town\n",
       "1           1  Babs_05                   Dusty Wreath\n",
       "2           2  Babs_05     Honey Child What Can I Do?\n",
       "3           3  Babs_05  It's Hard To Kill A Bad Thing\n",
       "4           4  Babs_05                Saturday's Gone"
      ]
     },
     "execution_count": 5,
     "metadata": {},
     "output_type": "execute_result"
    }
   ],
   "source": [
    "df_new.head()"
   ]
  },
  {
   "cell_type": "code",
   "execution_count": 6,
   "id": "c044e44b-1b82-4b99-b791-da5962e220ee",
   "metadata": {},
   "outputs": [],
   "source": [
    "unique_user = pd.DataFrame(df[\"Username\"].unique(), columns=[\"Username\"]).reset_index()\n",
    "unique_track = pd.DataFrame(df[\"Track\"].unique(), columns=[\"Track\"]).reset_index()\n",
    "\n",
    "unique_user.to_csv('users.csv', index=False, encoding='utf-8-sig')\n",
    "unique_track.to_csv('tracks.csv', index=False, encoding='utf-8-sig')"
   ]
  },
  {
   "cell_type": "code",
   "execution_count": 7,
   "id": "bc4ec6af-6aa6-42f6-8876-f93d1a549887",
   "metadata": {},
   "outputs": [],
   "source": [
    "unique_name = df['Username'].unique()\n",
    "data_new = pd.DataFrame()"
   ]
  },
  {
   "cell_type": "code",
   "execution_count": 8,
   "id": "1d11ae74-6c4a-4188-bbcb-004881a7893a",
   "metadata": {},
   "outputs": [
    {
     "name": "stdout",
     "output_type": "stream",
     "text": [
      "Empty DataFrame\n",
      "Columns: []\n",
      "Index: []\n"
     ]
    }
   ],
   "source": [
    "print(data_new)"
   ]
  },
  {
   "cell_type": "code",
   "execution_count": 9,
   "id": "e4339618-6972-4934-b111-309d1b648a96",
   "metadata": {},
   "outputs": [],
   "source": [
    "for name in unique_name:\n",
    "    tmp = df.loc[df[\"Username\"] == name]\n",
    "    df_new = tmp[\"Track\"].value_counts().reset_index()\n",
    "    data_new = pd.concat([data_new, df_new.assign(name=name)], ignore_index=True) "
   ]
  },
  {
   "cell_type": "code",
   "execution_count": 10,
   "id": "0671754d-bcfe-4a78-bff7-b949c704d5db",
   "metadata": {},
   "outputs": [],
   "source": [
    "data_new = data_new.merge(unique_user, left_on=\"name\", right_on=\"Username\", how=\"left\").drop(columns=[\"name\", \"Username\"]).rename(columns={\"index\": \"id_user\"})\n",
    "data_new = data_new.merge(unique_track, left_on=\"Track\", right_on=\"Track\", how=\"left\").drop(columns=[\"Track\"]).rename(columns={\"index\": \"id_track\"})\n",
    "    "
   ]
  },
  {
   "cell_type": "code",
   "execution_count": 11,
   "id": "d45c3539-5f10-4bde-92b3-6798023792c0",
   "metadata": {},
   "outputs": [],
   "source": [
    "data_new.to_csv('data_playcount.csv', index=False, encoding='utf-8-sig')"
   ]
  }
 ],
 "metadata": {
  "kernelspec": {
   "display_name": "Python 3 (ipykernel)",
   "language": "python",
   "name": "python3"
  },
  "language_info": {
   "codemirror_mode": {
    "name": "ipython",
    "version": 3
   },
   "file_extension": ".py",
   "mimetype": "text/x-python",
   "name": "python",
   "nbconvert_exporter": "python",
   "pygments_lexer": "ipython3",
   "version": "3.12.7"
  }
 },
 "nbformat": 4,
 "nbformat_minor": 5
}
